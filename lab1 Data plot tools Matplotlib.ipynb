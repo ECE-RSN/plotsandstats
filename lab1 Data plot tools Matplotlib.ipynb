{
 "cells": [
  {
   "cell_type": "markdown",
   "id": "e4f913b8",
   "metadata": {},
   "source": [
    "## Plotting data using Python\n",
    "\n",
    "Matplotlib is a Python package that contains an incredible number of tools for plotting data. You install it with \n",
    "<code> pip install matplotlib</code> <br>\n",
    "and include it in a Python script with \n",
    "<code>import matplotlib</code> at the beginning of the script\n",
    "\n",
    "Beginner's guide: https://matplotlib.org/cheatsheets/_images/handout-beginner.png <br>\n",
    "Matplotlib cheatsheet: https://matplotlib.org/cheatsheets/_images/cheatsheets-1.png <br>\n",
    "Full documentation: https://matplotlib.org/stable/users/index\n",
    "\n",
    "The Matplotlib development team and John Hunter, Darren Dale, Eric Firing, Michael Droettboom produced the Jupyter notebooks listed below. They are reproduced here for your convenience, as these are some of the most common types you'll need to use in this course. Copyright 2002–2012\n",
    "\n",
    "### Introductory tutorial\n",
    "https://matplotlib.org/stable/tutorials/introductory/pyplot.html#sphx-glr-tutorials-introductory-pyplot-py\n",
    "\n",
    "### Simple plot notebooks:\n",
    "- [2D Simple plot](./Matplotlib/simple_plot.ipynb)\n",
    "- [2D Simple scatter plot](./Matplotlib/scatter.ipynb)\n",
    "- [2D Histogram](./Matplotlib/hist.ipynb)\n",
    "- [3D Surface plot](./Matplotlib/surface3d_2.ipynb)\n",
    "- [3D Scatter plot](./Matplotlib/scatter3d.ipynb)\n",
    "\n",
    "### Subplot and multiplot notebooks: \n",
    "- [Multiple figures](./Matplotlib/multiple_figs_demo.ipynb)\n",
    "\n",
    "### Aesthetics (marker styles, etc):\n",
    "- [Marker reference](./Matplotlib/marker_reference.ipynb)\n",
    "\n",
    "### Fancy and fun:\n",
    "- [Multicolored line](./Matplotlib/multicolored_line.ipynb)\n",
    "\n",
    "The demo index has more examples and Jupyter notebook examples than you could shake a stick at: https://matplotlib.org/stable/gallery/index.html Seriously, over 525 examples!"
   ]
  },
  {
   "cell_type": "code",
   "execution_count": null,
   "id": "37d44fd9",
   "metadata": {},
   "outputs": [],
   "source": []
  }
 ],
 "metadata": {
  "kernelspec": {
   "display_name": "Python 3 (ipykernel)",
   "language": "python",
   "name": "python3"
  },
  "language_info": {
   "codemirror_mode": {
    "name": "ipython",
    "version": 3
   },
   "file_extension": ".py",
   "mimetype": "text/x-python",
   "name": "python",
   "nbconvert_exporter": "python",
   "pygments_lexer": "ipython3",
   "version": "3.10.9"
  }
 },
 "nbformat": 4,
 "nbformat_minor": 5
}
