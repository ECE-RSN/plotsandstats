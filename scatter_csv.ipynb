{
 "cells": [
  {
   "cell_type": "markdown",
   "metadata": {},
   "source": [
    "\n",
    "# Scatter plot with CSV (comma separated value) data\n",
    "\n",
    "This example showcases a simple scatter plot after reading in CSV data file\n"
   ]
  },
  {
   "cell_type": "code",
   "execution_count": null,
   "metadata": {
    "collapsed": false,
    "jupyter": {
     "outputs_hidden": false
    }
   },
   "outputs": [],
   "source": [
    "import matplotlib.pyplot as plt\n",
    "import numpy as np\n",
    "import csv\n",
    "\n",
    "class_data = np.array([[0, 0, 0, 0]])\n",
    "\n",
    "class_survey_file = '' #you will need to update the filename\n",
    "\n",
    "with open(class_survey_file) as readfile:\n",
    "        reader = csv.reader(readfile, delimiter=',')\n",
    "        next(reader)\n",
    "        for line in readfile:\n",
    "            values = line.split(',') #split read line at comma\n",
    "            height = float(values[0])\n",
    "            integer_guess = float(values[1])\n",
    "            scifi = float(values[2])\n",
    "            baseball = float(values[3])\n",
    "            class_data = np.append(class_data,[[height, integer_guess, scifi, baseball]], axis = 0)\n",
    "\n",
    "plt.scatter(height, alpha=0.5) #plot the height of the class\n",
    "plt.show()"
   ]
  }
 ],
 "metadata": {
  "kernelspec": {
   "display_name": "Python 3 (ipykernel)",
   "language": "python",
   "name": "python3"
  },
  "language_info": {
   "codemirror_mode": {
    "name": "ipython",
    "version": 3
   },
   "file_extension": ".py",
   "mimetype": "text/x-python",
   "name": "python",
   "nbconvert_exporter": "python",
   "pygments_lexer": "ipython3",
   "version": "3.8.10"
  }
 },
 "nbformat": 4,
 "nbformat_minor": 4
}
